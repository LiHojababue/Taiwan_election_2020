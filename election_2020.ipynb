{
  "nbformat": 4,
  "nbformat_minor": 0,
  "metadata": {
    "colab": {
      "name": "election_2020.ipynb",
      "provenance": [],
      "collapsed_sections": []
    },
    "kernelspec": {
      "name": "python3",
      "display_name": "Python 3"
    }
  },
  "cells": [
    {
      "cell_type": "code",
      "metadata": {
        "id": "5M24Aq3m--Yv",
        "colab_type": "code",
        "colab": {}
      },
      "source": [
        "# Importing libraries/functions the project needs\n",
        "from urllib.parse import quote_plus\n",
        "from string import ascii_uppercase\n",
        "import os\n",
        "import re\n",
        "import pandas as pd\n",
        "import sqlite3"
      ],
      "execution_count": null,
      "outputs": []
    },
    {
      "cell_type": "code",
      "metadata": {
        "id": "PN6oKnRY_4Kv",
        "colab_type": "code",
        "colab": {
          "base_uri": "https://localhost:8080/",
          "height": 34
        },
        "outputId": "8ba9f9da-aa06-4a29-b9bc-beb847fe4c49"
      },
      "source": [
        "file_name = \"總統-A05-4-候選人得票數一覽表-各投開票所(臺北市).xls\"\n",
        "file_url = quote_plus(file_name)\n",
        "spreadsheet_url = \"https://taiwan-election-data.s3-ap-northeast-1.amazonaws.com/presidential_2020/{}\".format(file_url)\n",
        "xl = pd.ExcelFile(spreadsheet_url)\n",
        "print(xl.sheet_names)"
      ],
      "execution_count": null,
      "outputs": [
        {
          "output_type": "stream",
          "text": [
            "['臺北市']\n"
          ],
          "name": "stdout"
        }
      ]
    },
    {
      "cell_type": "code",
      "metadata": {
        "id": "QrWuKu49AvOs",
        "colab_type": "code",
        "colab": {
          "base_uri": "https://localhost:8080/",
          "height": 246
        },
        "outputId": "eac1457c-bf82-4b82-b1b8-f9045bf01e35"
      },
      "source": [
        "df = pd.read_excel(spreadsheet_url)\n",
        "df.head()"
      ],
      "execution_count": null,
      "outputs": [
        {
          "output_type": "execute_result",
          "data": {
            "text/html": [
              "<div>\n",
              "<style scoped>\n",
              "    .dataframe tbody tr th:only-of-type {\n",
              "        vertical-align: middle;\n",
              "    }\n",
              "\n",
              "    .dataframe tbody tr th {\n",
              "        vertical-align: top;\n",
              "    }\n",
              "\n",
              "    .dataframe thead th {\n",
              "        text-align: right;\n",
              "    }\n",
              "</style>\n",
              "<table border=\"1\" class=\"dataframe\">\n",
              "  <thead>\n",
              "    <tr style=\"text-align: right;\">\n",
              "      <th></th>\n",
              "      <th>第15任總統副總統選舉候選人在臺北市各投開票所得票數一覽表</th>\n",
              "      <th>Unnamed: 1</th>\n",
              "      <th>Unnamed: 2</th>\n",
              "      <th>Unnamed: 3</th>\n",
              "      <th>Unnamed: 4</th>\n",
              "      <th>Unnamed: 5</th>\n",
              "      <th>Unnamed: 6</th>\n",
              "      <th>Unnamed: 7</th>\n",
              "      <th>Unnamed: 8</th>\n",
              "      <th>Unnamed: 9</th>\n",
              "      <th>Unnamed: 10</th>\n",
              "      <th>Unnamed: 11</th>\n",
              "      <th>Unnamed: 12</th>\n",
              "      <th>Unnamed: 13</th>\n",
              "    </tr>\n",
              "  </thead>\n",
              "  <tbody>\n",
              "    <tr>\n",
              "      <th>0</th>\n",
              "      <td>鄉(鎮、市、區)別</td>\n",
              "      <td>村里別</td>\n",
              "      <td>投票所別</td>\n",
              "      <td>各組候選人得票情形</td>\n",
              "      <td>NaN</td>\n",
              "      <td>NaN</td>\n",
              "      <td>有效票數A\\nA=1+2+...+N</td>\n",
              "      <td>無效票數B</td>\n",
              "      <td>投票數C\\nC=A+B</td>\n",
              "      <td>已領未投票數\\nD\\nD=E-C</td>\n",
              "      <td>發出票數E\\nE=C+D</td>\n",
              "      <td>用餘票數F</td>\n",
              "      <td>選舉人數G\\nG=E+F</td>\n",
              "      <td>投票率H\\nH=C÷G</td>\n",
              "    </tr>\n",
              "    <tr>\n",
              "      <th>1</th>\n",
              "      <td>NaN</td>\n",
              "      <td>NaN</td>\n",
              "      <td>NaN</td>\n",
              "      <td>(1)\\n宋楚瑜\\n余湘</td>\n",
              "      <td>(2)\\n韓國瑜\\n張善政</td>\n",
              "      <td>(3)\\n蔡英文\\n賴清德</td>\n",
              "      <td>NaN</td>\n",
              "      <td>NaN</td>\n",
              "      <td>NaN</td>\n",
              "      <td>NaN</td>\n",
              "      <td>NaN</td>\n",
              "      <td>NaN</td>\n",
              "      <td>NaN</td>\n",
              "      <td>NaN</td>\n",
              "    </tr>\n",
              "    <tr>\n",
              "      <th>2</th>\n",
              "      <td>NaN</td>\n",
              "      <td>NaN</td>\n",
              "      <td>NaN</td>\n",
              "      <td>NaN</td>\n",
              "      <td>NaN</td>\n",
              "      <td>NaN</td>\n",
              "      <td>NaN</td>\n",
              "      <td>NaN</td>\n",
              "      <td>NaN</td>\n",
              "      <td>NaN</td>\n",
              "      <td>NaN</td>\n",
              "      <td>NaN</td>\n",
              "      <td>NaN</td>\n",
              "      <td>NaN</td>\n",
              "    </tr>\n",
              "    <tr>\n",
              "      <th>3</th>\n",
              "      <td>NaN</td>\n",
              "      <td>NaN</td>\n",
              "      <td>NaN</td>\n",
              "      <td>NaN</td>\n",
              "      <td>NaN</td>\n",
              "      <td>NaN</td>\n",
              "      <td>NaN</td>\n",
              "      <td>NaN</td>\n",
              "      <td>NaN</td>\n",
              "      <td>NaN</td>\n",
              "      <td>NaN</td>\n",
              "      <td>NaN</td>\n",
              "      <td>NaN</td>\n",
              "      <td>NaN</td>\n",
              "    </tr>\n",
              "    <tr>\n",
              "      <th>4</th>\n",
              "      <td>總　計</td>\n",
              "      <td>NaN</td>\n",
              "      <td>NaN</td>\n",
              "      <td>70,769</td>\n",
              "      <td>685,830</td>\n",
              "      <td>875,854</td>\n",
              "      <td>1,632,453</td>\n",
              "      <td>21,381</td>\n",
              "      <td>1,653,834</td>\n",
              "      <td>143</td>\n",
              "      <td>1,653,977</td>\n",
              "      <td>513,287</td>\n",
              "      <td>2,167,264</td>\n",
              "      <td>76.3098</td>\n",
              "    </tr>\n",
              "  </tbody>\n",
              "</table>\n",
              "</div>"
            ],
            "text/plain": [
              "  第15任總統副總統選舉候選人在臺北市各投開票所得票數一覽表 Unnamed: 1  ...   Unnamed: 12  Unnamed: 13\n",
              "0                     鄉(鎮、市、區)別        村里別  ...  選舉人數G\\nG=E+F  投票率H\\nH=C÷G\n",
              "1                           NaN        NaN  ...           NaN          NaN\n",
              "2                           NaN        NaN  ...           NaN          NaN\n",
              "3                           NaN        NaN  ...           NaN          NaN\n",
              "4                           總　計        NaN  ...     2,167,264      76.3098\n",
              "\n",
              "[5 rows x 14 columns]"
            ]
          },
          "metadata": {
            "tags": []
          },
          "execution_count": 3
        }
      ]
    },
    {
      "cell_type": "code",
      "metadata": {
        "id": "Dxw5YC_-Az0_",
        "colab_type": "code",
        "colab": {
          "base_uri": "https://localhost:8080/",
          "height": 34
        },
        "outputId": "5efd39b9-75e3-423a-fe0b-3fb47c0d52eb"
      },
      "source": [
        "file_name = \"區域立委-A05-2-得票數一覽表(臺北市).xls\"\n",
        "file_url = quote_plus(file_name)\n",
        "spreadsheet_url = \"https://taiwan-election-data.s3-ap-northeast-1.amazonaws.com/legislative_2020/{}\".format(file_url)\n",
        "xl = pd.ExcelFile(spreadsheet_url)\n",
        "print(xl.sheet_names)"
      ],
      "execution_count": null,
      "outputs": [
        {
          "output_type": "stream",
          "text": [
            "['臺北市第1選舉區', '臺北市第2選舉區', '臺北市第3選舉區', '臺北市第4選舉區', '臺北市第5選舉區', '臺北市第6選舉區', '臺北市第7選舉區', '臺北市第8選舉區']\n"
          ],
          "name": "stdout"
        }
      ]
    },
    {
      "cell_type": "code",
      "metadata": {
        "id": "Fj_i8DHYA40R",
        "colab_type": "code",
        "colab": {
          "base_uri": "https://localhost:8080/",
          "height": 151
        },
        "outputId": "c73c413f-481c-4fc4-94d9-23462a231fed"
      },
      "source": [
        "regional_legislator_taipei_city = {}\n",
        "for sheet_name in xl.sheet_names:\n",
        "    regional_legislator_taipei_city[sheet_name] = pd.read_excel(spreadsheet_url, sheet_name=sheet_name)\n",
        "for k, v in regional_legislator_taipei_city.items():\n",
        "    print(\"Shape of {} : {}\".format(k, v.shape))"
      ],
      "execution_count": null,
      "outputs": [
        {
          "output_type": "stream",
          "text": [
            "Shape of 臺北市第1選舉區 : (219, 18)\n",
            "Shape of 臺北市第2選舉區 : (224, 17)\n",
            "Shape of 臺北市第3選舉區 : (233, 15)\n",
            "Shape of 臺北市第4選舉區 : (248, 18)\n",
            "Shape of 臺北市第5選舉區 : (225, 19)\n",
            "Shape of 臺北市第6選舉區 : (200, 21)\n",
            "Shape of 臺北市第7選舉區 : (222, 16)\n",
            "Shape of 臺北市第8選舉區 : (212, 20)\n"
          ],
          "name": "stdout"
        }
      ]
    },
    {
      "cell_type": "code",
      "metadata": {
        "id": "vejqgpdtBaRK",
        "colab_type": "code",
        "colab": {
          "base_uri": "https://localhost:8080/",
          "height": 34
        },
        "outputId": "a10e7a48-efa5-4df1-b0b9-d614fc742168"
      },
      "source": [
        "file_name = \"不分區立委-A05-6-得票數一覽表(臺北市).xls\"\n",
        "file_url = quote_plus(file_name)\n",
        "spreadsheet_url = \"https://taiwan-election-data.s3-ap-northeast-1.amazonaws.com/legislative_2020/{}\".format(file_url)\n",
        "xl = pd.ExcelFile(spreadsheet_url)\n",
        "print(xl.sheet_names)"
      ],
      "execution_count": null,
      "outputs": [
        {
          "output_type": "stream",
          "text": [
            "['臺北市']\n"
          ],
          "name": "stdout"
        }
      ]
    },
    {
      "cell_type": "code",
      "metadata": {
        "id": "OVHE22i1BhkK",
        "colab_type": "code",
        "colab": {
          "base_uri": "https://localhost:8080/",
          "height": 34
        },
        "outputId": "3a017978-c639-4bbf-ee0c-c629b51ed086"
      },
      "source": [
        "file_name = \"山地立委-A05-4-得票數一覽表(臺北市).xls\"\n",
        "file_url = quote_plus(file_name)\n",
        "spreadsheet_url = \"https://taiwan-election-data.s3-ap-northeast-1.amazonaws.com/legislative_2020/{}\".format(file_url)\n",
        "xl = pd.ExcelFile(spreadsheet_url)\n",
        "print(xl.sheet_names)"
      ],
      "execution_count": null,
      "outputs": [
        {
          "output_type": "stream",
          "text": [
            "['臺北市']\n"
          ],
          "name": "stdout"
        }
      ]
    },
    {
      "cell_type": "code",
      "metadata": {
        "id": "BTq8EnaeBj4K",
        "colab_type": "code",
        "colab": {
          "base_uri": "https://localhost:8080/",
          "height": 34
        },
        "outputId": "d0fdb379-f205-4901-bcdb-9bdd0c9b36f3"
      },
      "source": [
        "file_name = \"平地立委-A05-4-得票數一覽表(臺北市).xls\"\n",
        "file_url = quote_plus(file_name)\n",
        "spreadsheet_url = \"https://taiwan-election-data.s3-ap-northeast-1.amazonaws.com/legislative_2020/{}\".format(file_url)\n",
        "xl = pd.ExcelFile(spreadsheet_url)\n",
        "print(xl.sheet_names)"
      ],
      "execution_count": null,
      "outputs": [
        {
          "output_type": "stream",
          "text": [
            "['臺北市']\n"
          ],
          "name": "stdout"
        }
      ]
    },
    {
      "cell_type": "code",
      "metadata": {
        "id": "RVBAL4AGBl0G",
        "colab_type": "code",
        "colab": {}
      },
      "source": [
        "file_name = \"總統-A05-4-候選人得票數一覽表-各投開票所(臺北市).xls\"\n",
        "file_url = quote_plus(file_name)\n",
        "spreadsheet_url = \"https://taiwan-election-data.s3-ap-northeast-1.amazonaws.com/presidential_2020/{}\".format(file_url)\n",
        "df = pd.read_excel(spreadsheet_url, skiprows=[0, 1, 3, 4], thousands=',')"
      ],
      "execution_count": null,
      "outputs": []
    },
    {
      "cell_type": "code",
      "metadata": {
        "id": "HhPiscq3Bph_",
        "colab_type": "code",
        "colab": {}
      },
      "source": [
        "n_cols = df.columns.size\n",
        "n_candidates = n_cols - 11\n",
        "id_vars = ['district', 'village', 'office']\n",
        "candidates = list(df.columns[3:(3 + n_candidates)])\n",
        "office_cols = list(ascii_uppercase[:8])\n",
        "col_names = id_vars + candidates + office_cols\n",
        "df.columns = col_names"
      ],
      "execution_count": null,
      "outputs": []
    },
    {
      "cell_type": "code",
      "metadata": {
        "id": "RpJcY65NBtSy",
        "colab_type": "code",
        "colab": {
          "base_uri": "https://localhost:8080/",
          "height": 195
        },
        "outputId": "a9266ac5-3b0f-4823-e18c-68c59f8da093"
      },
      "source": [
        "filled_district = df['district'].fillna(method='ffill')\n",
        "df = df.assign(district=filled_district)\n",
        "df.head()"
      ],
      "execution_count": null,
      "outputs": [
        {
          "output_type": "execute_result",
          "data": {
            "text/html": [
              "<div>\n",
              "<style scoped>\n",
              "    .dataframe tbody tr th:only-of-type {\n",
              "        vertical-align: middle;\n",
              "    }\n",
              "\n",
              "    .dataframe tbody tr th {\n",
              "        vertical-align: top;\n",
              "    }\n",
              "\n",
              "    .dataframe thead th {\n",
              "        text-align: right;\n",
              "    }\n",
              "</style>\n",
              "<table border=\"1\" class=\"dataframe\">\n",
              "  <thead>\n",
              "    <tr style=\"text-align: right;\">\n",
              "      <th></th>\n",
              "      <th>district</th>\n",
              "      <th>village</th>\n",
              "      <th>office</th>\n",
              "      <th>(1)\\n宋楚瑜\\n余湘</th>\n",
              "      <th>(2)\\n韓國瑜\\n張善政</th>\n",
              "      <th>(3)\\n蔡英文\\n賴清德</th>\n",
              "      <th>A</th>\n",
              "      <th>B</th>\n",
              "      <th>C</th>\n",
              "      <th>D</th>\n",
              "      <th>E</th>\n",
              "      <th>F</th>\n",
              "      <th>G</th>\n",
              "      <th>H</th>\n",
              "    </tr>\n",
              "  </thead>\n",
              "  <tbody>\n",
              "    <tr>\n",
              "      <th>0</th>\n",
              "      <td>總　計</td>\n",
              "      <td>NaN</td>\n",
              "      <td>NaN</td>\n",
              "      <td>70769</td>\n",
              "      <td>685830</td>\n",
              "      <td>875854</td>\n",
              "      <td>1632453</td>\n",
              "      <td>21381</td>\n",
              "      <td>1653834</td>\n",
              "      <td>143</td>\n",
              "      <td>1653977</td>\n",
              "      <td>513287</td>\n",
              "      <td>2167264</td>\n",
              "      <td>76.3098</td>\n",
              "    </tr>\n",
              "    <tr>\n",
              "      <th>1</th>\n",
              "      <td>松山區</td>\n",
              "      <td>NaN</td>\n",
              "      <td>NaN</td>\n",
              "      <td>5436</td>\n",
              "      <td>55918</td>\n",
              "      <td>64207</td>\n",
              "      <td>125561</td>\n",
              "      <td>1762</td>\n",
              "      <td>127323</td>\n",
              "      <td>2</td>\n",
              "      <td>127325</td>\n",
              "      <td>37329</td>\n",
              "      <td>164654</td>\n",
              "      <td>77.3276</td>\n",
              "    </tr>\n",
              "    <tr>\n",
              "      <th>2</th>\n",
              "      <td>松山區</td>\n",
              "      <td>莊敬里</td>\n",
              "      <td>573.0</td>\n",
              "      <td>36</td>\n",
              "      <td>391</td>\n",
              "      <td>429</td>\n",
              "      <td>856</td>\n",
              "      <td>14</td>\n",
              "      <td>870</td>\n",
              "      <td>0</td>\n",
              "      <td>870</td>\n",
              "      <td>230</td>\n",
              "      <td>1100</td>\n",
              "      <td>79.0909</td>\n",
              "    </tr>\n",
              "    <tr>\n",
              "      <th>3</th>\n",
              "      <td>松山區</td>\n",
              "      <td>莊敬里</td>\n",
              "      <td>574.0</td>\n",
              "      <td>46</td>\n",
              "      <td>382</td>\n",
              "      <td>438</td>\n",
              "      <td>866</td>\n",
              "      <td>12</td>\n",
              "      <td>878</td>\n",
              "      <td>0</td>\n",
              "      <td>878</td>\n",
              "      <td>259</td>\n",
              "      <td>1137</td>\n",
              "      <td>77.2208</td>\n",
              "    </tr>\n",
              "    <tr>\n",
              "      <th>4</th>\n",
              "      <td>松山區</td>\n",
              "      <td>莊敬里</td>\n",
              "      <td>575.0</td>\n",
              "      <td>48</td>\n",
              "      <td>393</td>\n",
              "      <td>389</td>\n",
              "      <td>830</td>\n",
              "      <td>22</td>\n",
              "      <td>852</td>\n",
              "      <td>0</td>\n",
              "      <td>852</td>\n",
              "      <td>262</td>\n",
              "      <td>1114</td>\n",
              "      <td>76.4811</td>\n",
              "    </tr>\n",
              "  </tbody>\n",
              "</table>\n",
              "</div>"
            ],
            "text/plain": [
              "  district village  office  (1)\\n宋楚瑜\\n余湘  ...        E       F        G        H\n",
              "0      總　計     NaN     NaN         70769  ...  1653977  513287  2167264  76.3098\n",
              "1     　松山區     NaN     NaN          5436  ...   127325   37329   164654  77.3276\n",
              "2     　松山區     莊敬里   573.0            36  ...      870     230     1100  79.0909\n",
              "3     　松山區     莊敬里   574.0            46  ...      878     259     1137  77.2208\n",
              "4     　松山區     莊敬里   575.0            48  ...      852     262     1114  76.4811\n",
              "\n",
              "[5 rows x 14 columns]"
            ]
          },
          "metadata": {
            "tags": []
          },
          "execution_count": 11
        }
      ]
    },
    {
      "cell_type": "code",
      "metadata": {
        "id": "nuwKT3CrBwsn",
        "colab_type": "code",
        "colab": {}
      },
      "source": [
        "df = df.dropna()"
      ],
      "execution_count": null,
      "outputs": []
    },
    {
      "cell_type": "code",
      "metadata": {
        "id": "AGmCxVYXBzoj",
        "colab_type": "code",
        "colab": {
          "base_uri": "https://localhost:8080/",
          "height": 67
        },
        "outputId": "9a93942e-327f-45ef-8392-df92b7742deb"
      },
      "source": [
        "print(df['district'].unique())\n",
        "stripped_strict = df['district'].str.replace(\"\\u3000\", \"\")\n",
        "df = df.assign(district=stripped_strict)\n",
        "print(df['district'].unique())"
      ],
      "execution_count": null,
      "outputs": [
        {
          "output_type": "stream",
          "text": [
            "['\\u3000松山區' '\\u3000信義區' '\\u3000大安區' '\\u3000中山區' '\\u3000中正區' '\\u3000大同區'\n",
            " '\\u3000萬華區' '\\u3000文山區' '\\u3000南港區' '\\u3000內湖區' '\\u3000士林區' '\\u3000北投區']\n",
            "['松山區' '信義區' '大安區' '中山區' '中正區' '大同區' '萬華區' '文山區' '南港區' '內湖區' '士林區' '北投區']\n"
          ],
          "name": "stdout"
        }
      ]
    },
    {
      "cell_type": "code",
      "metadata": {
        "id": "7Sysk_3dB1XF",
        "colab_type": "code",
        "colab": {
          "base_uri": "https://localhost:8080/",
          "height": 195
        },
        "outputId": "6fb124e8-a30a-431d-88d5-0cd58025e702"
      },
      "source": [
        "df = df.drop(labels=office_cols, axis=1)\n",
        "df_long = pd.melt(df,\n",
        "                  id_vars=id_vars,\n",
        "                  var_name='candidate_info',\n",
        "                  value_name='votes'\n",
        "                 )\n",
        "df_long.head()"
      ],
      "execution_count": null,
      "outputs": [
        {
          "output_type": "execute_result",
          "data": {
            "text/html": [
              "<div>\n",
              "<style scoped>\n",
              "    .dataframe tbody tr th:only-of-type {\n",
              "        vertical-align: middle;\n",
              "    }\n",
              "\n",
              "    .dataframe tbody tr th {\n",
              "        vertical-align: top;\n",
              "    }\n",
              "\n",
              "    .dataframe thead th {\n",
              "        text-align: right;\n",
              "    }\n",
              "</style>\n",
              "<table border=\"1\" class=\"dataframe\">\n",
              "  <thead>\n",
              "    <tr style=\"text-align: right;\">\n",
              "      <th></th>\n",
              "      <th>district</th>\n",
              "      <th>village</th>\n",
              "      <th>office</th>\n",
              "      <th>candidate_info</th>\n",
              "      <th>votes</th>\n",
              "    </tr>\n",
              "  </thead>\n",
              "  <tbody>\n",
              "    <tr>\n",
              "      <th>0</th>\n",
              "      <td>松山區</td>\n",
              "      <td>莊敬里</td>\n",
              "      <td>573.0</td>\n",
              "      <td>(1)\\n宋楚瑜\\n余湘</td>\n",
              "      <td>36</td>\n",
              "    </tr>\n",
              "    <tr>\n",
              "      <th>1</th>\n",
              "      <td>松山區</td>\n",
              "      <td>莊敬里</td>\n",
              "      <td>574.0</td>\n",
              "      <td>(1)\\n宋楚瑜\\n余湘</td>\n",
              "      <td>46</td>\n",
              "    </tr>\n",
              "    <tr>\n",
              "      <th>2</th>\n",
              "      <td>松山區</td>\n",
              "      <td>莊敬里</td>\n",
              "      <td>575.0</td>\n",
              "      <td>(1)\\n宋楚瑜\\n余湘</td>\n",
              "      <td>48</td>\n",
              "    </tr>\n",
              "    <tr>\n",
              "      <th>3</th>\n",
              "      <td>松山區</td>\n",
              "      <td>莊敬里</td>\n",
              "      <td>576.0</td>\n",
              "      <td>(1)\\n宋楚瑜\\n余湘</td>\n",
              "      <td>43</td>\n",
              "    </tr>\n",
              "    <tr>\n",
              "      <th>4</th>\n",
              "      <td>松山區</td>\n",
              "      <td>東榮里</td>\n",
              "      <td>577.0</td>\n",
              "      <td>(1)\\n宋楚瑜\\n余湘</td>\n",
              "      <td>38</td>\n",
              "    </tr>\n",
              "  </tbody>\n",
              "</table>\n",
              "</div>"
            ],
            "text/plain": [
              "  district village  office candidate_info  votes\n",
              "0      松山區     莊敬里   573.0   (1)\\n宋楚瑜\\n余湘     36\n",
              "1      松山區     莊敬里   574.0   (1)\\n宋楚瑜\\n余湘     46\n",
              "2      松山區     莊敬里   575.0   (1)\\n宋楚瑜\\n余湘     48\n",
              "3      松山區     莊敬里   576.0   (1)\\n宋楚瑜\\n余湘     43\n",
              "4      松山區     東榮里   577.0   (1)\\n宋楚瑜\\n余湘     38"
            ]
          },
          "metadata": {
            "tags": []
          },
          "execution_count": 14
        }
      ]
    },
    {
      "cell_type": "code",
      "metadata": {
        "id": "CUG_T1PqB33p",
        "colab_type": "code",
        "colab": {}
      },
      "source": [
        "def tidy_dataframe(df):\n",
        "    # updating columns attributes \n",
        "    n_cols = df.columns.size\n",
        "    n_candidates = n_cols - 11\n",
        "    id_vars = ['district', 'village', 'office']\n",
        "    candidates = list(df.columns[3:(3 + n_candidates)])\n",
        "    office_cols = list(ascii_uppercase[:8])\n",
        "    col_names = id_vars + candidates + office_cols\n",
        "    df.columns = col_names\n",
        "    # forward-fill district values\n",
        "    filled_district = df['district'].fillna(method='ffill')\n",
        "    df = df.assign(district=filled_district)\n",
        "    # removing summations\n",
        "    df = df.dropna()\n",
        "    # removing extra spaces\n",
        "    stripped_strict = df['district'].str.replace(\"\\u3000\", \"\")\n",
        "    df = df.assign(district=stripped_strict)\n",
        "    # pivoting\n",
        "    df = df.drop(labels=office_cols, axis=1)\n",
        "    tidy_df = pd.melt(df,\n",
        "                      id_vars=id_vars,\n",
        "                      var_name='candidate_info',\n",
        "                      value_name='votes'\n",
        "                     )\n",
        "    return tidy_df"
      ],
      "execution_count": null,
      "outputs": []
    },
    {
      "cell_type": "code",
      "metadata": {
        "id": "R74Gq9slB7AM",
        "colab_type": "code",
        "colab": {
          "base_uri": "https://localhost:8080/",
          "height": 386
        },
        "outputId": "0b8ae712-8164-4f6c-c022-842251c587fe"
      },
      "source": [
        "presidential = pd.DataFrame()\n",
        "city_county_list = ['宜蘭縣', '彰化縣', '金門縣', '桃園市', '苗栗縣', '臺南市', '雲林縣', '南投縣', '高雄市', '臺北市', '新北市', '花蓮縣', '新竹市', '新竹縣', '基隆市', '連江縣', '嘉義縣', '嘉義市', '屏東縣', '澎湖縣', '臺東縣', '臺中市']\n",
        "for city_county in city_county_list:\n",
        "    file_name = \"總統-A05-4-候選人得票數一覽表-各投開票所({}).xls\".format(city_county)\n",
        "    file_url = quote_plus(file_name)\n",
        "    spreadsheet_url = \"https://taiwan-election-data.s3-ap-northeast-1.amazonaws.com/presidential_2020/{}\".format(file_url)\n",
        "    # skip those combined cells\n",
        "    df = pd.read_excel(spreadsheet_url, skiprows=[0, 1, 3, 4], thousands=',')\n",
        "    tidy_df = tidy_dataframe(df)\n",
        "    # appending dataframe of each city/county\n",
        "    tidy_df['city_county'] = city_county\n",
        "    presidential = presidential.append(tidy_df)\n",
        "    print(\"Tidying {}\".format(file_name))\n",
        "presidential = presidential.reset_index(drop=True) # reset index for the appended dataframe"
      ],
      "execution_count": null,
      "outputs": [
        {
          "output_type": "stream",
          "text": [
            "Tidying 總統-A05-4-候選人得票數一覽表-各投開票所(宜蘭縣).xls\n",
            "Tidying 總統-A05-4-候選人得票數一覽表-各投開票所(彰化縣).xls\n",
            "Tidying 總統-A05-4-候選人得票數一覽表-各投開票所(金門縣).xls\n",
            "Tidying 總統-A05-4-候選人得票數一覽表-各投開票所(桃園市).xls\n",
            "Tidying 總統-A05-4-候選人得票數一覽表-各投開票所(苗栗縣).xls\n",
            "Tidying 總統-A05-4-候選人得票數一覽表-各投開票所(臺南市).xls\n",
            "Tidying 總統-A05-4-候選人得票數一覽表-各投開票所(雲林縣).xls\n",
            "Tidying 總統-A05-4-候選人得票數一覽表-各投開票所(南投縣).xls\n",
            "Tidying 總統-A05-4-候選人得票數一覽表-各投開票所(高雄市).xls\n",
            "Tidying 總統-A05-4-候選人得票數一覽表-各投開票所(臺北市).xls\n",
            "Tidying 總統-A05-4-候選人得票數一覽表-各投開票所(新北市).xls\n",
            "Tidying 總統-A05-4-候選人得票數一覽表-各投開票所(花蓮縣).xls\n",
            "Tidying 總統-A05-4-候選人得票數一覽表-各投開票所(新竹市).xls\n",
            "Tidying 總統-A05-4-候選人得票數一覽表-各投開票所(新竹縣).xls\n",
            "Tidying 總統-A05-4-候選人得票數一覽表-各投開票所(基隆市).xls\n",
            "Tidying 總統-A05-4-候選人得票數一覽表-各投開票所(連江縣).xls\n",
            "Tidying 總統-A05-4-候選人得票數一覽表-各投開票所(嘉義縣).xls\n",
            "Tidying 總統-A05-4-候選人得票數一覽表-各投開票所(嘉義市).xls\n",
            "Tidying 總統-A05-4-候選人得票數一覽表-各投開票所(屏東縣).xls\n",
            "Tidying 總統-A05-4-候選人得票數一覽表-各投開票所(澎湖縣).xls\n",
            "Tidying 總統-A05-4-候選人得票數一覽表-各投開票所(臺東縣).xls\n",
            "Tidying 總統-A05-4-候選人得票數一覽表-各投開票所(臺中市).xls\n"
          ],
          "name": "stdout"
        }
      ]
    },
    {
      "cell_type": "code",
      "metadata": {
        "id": "ce2c-_iIB9EE",
        "colab_type": "code",
        "colab": {
          "base_uri": "https://localhost:8080/",
          "height": 195
        },
        "outputId": "db7e3afb-5ba1-4c56-a999-fa568670adfb"
      },
      "source": [
        "presidential.head()"
      ],
      "execution_count": null,
      "outputs": [
        {
          "output_type": "execute_result",
          "data": {
            "text/html": [
              "<div>\n",
              "<style scoped>\n",
              "    .dataframe tbody tr th:only-of-type {\n",
              "        vertical-align: middle;\n",
              "    }\n",
              "\n",
              "    .dataframe tbody tr th {\n",
              "        vertical-align: top;\n",
              "    }\n",
              "\n",
              "    .dataframe thead th {\n",
              "        text-align: right;\n",
              "    }\n",
              "</style>\n",
              "<table border=\"1\" class=\"dataframe\">\n",
              "  <thead>\n",
              "    <tr style=\"text-align: right;\">\n",
              "      <th></th>\n",
              "      <th>district</th>\n",
              "      <th>village</th>\n",
              "      <th>office</th>\n",
              "      <th>candidate_info</th>\n",
              "      <th>votes</th>\n",
              "      <th>city_county</th>\n",
              "    </tr>\n",
              "  </thead>\n",
              "  <tbody>\n",
              "    <tr>\n",
              "      <th>0</th>\n",
              "      <td>宜蘭市</td>\n",
              "      <td>民族里</td>\n",
              "      <td>1.0</td>\n",
              "      <td>(1)\\n宋楚瑜\\n余湘</td>\n",
              "      <td>37</td>\n",
              "      <td>宜蘭縣</td>\n",
              "    </tr>\n",
              "    <tr>\n",
              "      <th>1</th>\n",
              "      <td>宜蘭市</td>\n",
              "      <td>民族里</td>\n",
              "      <td>2.0</td>\n",
              "      <td>(1)\\n宋楚瑜\\n余湘</td>\n",
              "      <td>31</td>\n",
              "      <td>宜蘭縣</td>\n",
              "    </tr>\n",
              "    <tr>\n",
              "      <th>2</th>\n",
              "      <td>宜蘭市</td>\n",
              "      <td>建軍里</td>\n",
              "      <td>3.0</td>\n",
              "      <td>(1)\\n宋楚瑜\\n余湘</td>\n",
              "      <td>19</td>\n",
              "      <td>宜蘭縣</td>\n",
              "    </tr>\n",
              "    <tr>\n",
              "      <th>3</th>\n",
              "      <td>宜蘭市</td>\n",
              "      <td>建軍里</td>\n",
              "      <td>4.0</td>\n",
              "      <td>(1)\\n宋楚瑜\\n余湘</td>\n",
              "      <td>29</td>\n",
              "      <td>宜蘭縣</td>\n",
              "    </tr>\n",
              "    <tr>\n",
              "      <th>4</th>\n",
              "      <td>宜蘭市</td>\n",
              "      <td>泰山里</td>\n",
              "      <td>5.0</td>\n",
              "      <td>(1)\\n宋楚瑜\\n余湘</td>\n",
              "      <td>25</td>\n",
              "      <td>宜蘭縣</td>\n",
              "    </tr>\n",
              "  </tbody>\n",
              "</table>\n",
              "</div>"
            ],
            "text/plain": [
              "  district village  office candidate_info  votes city_county\n",
              "0      宜蘭市     民族里     1.0   (1)\\n宋楚瑜\\n余湘     37         宜蘭縣\n",
              "1      宜蘭市     民族里     2.0   (1)\\n宋楚瑜\\n余湘     31         宜蘭縣\n",
              "2      宜蘭市     建軍里     3.0   (1)\\n宋楚瑜\\n余湘     19         宜蘭縣\n",
              "3      宜蘭市     建軍里     4.0   (1)\\n宋楚瑜\\n余湘     29         宜蘭縣\n",
              "4      宜蘭市     泰山里     5.0   (1)\\n宋楚瑜\\n余湘     25         宜蘭縣"
            ]
          },
          "metadata": {
            "tags": []
          },
          "execution_count": 17
        }
      ]
    },
    {
      "cell_type": "code",
      "metadata": {
        "id": "Tom310PJEmEx",
        "colab_type": "code",
        "colab": {}
      },
      "source": [
        "def adjust_presidential(df):\n",
        "    # split candidate information into 2 columns\n",
        "    candidate_info_df = df['candidate_info'].str.split(\"\\n\", expand=True)\n",
        "    numbers = candidate_info_df[0].str.replace(\"\\(|\\)\", \"\")\n",
        "    candidates = candidate_info_df[1].str.cat(candidate_info_df[2], sep=\"/\")\n",
        "    # re-arrange columns\n",
        "    df = df.drop(labels='candidate_info', axis=1)\n",
        "    df['number'] = numbers\n",
        "    df['candidate'] = candidates\n",
        "    df['office'] = df['office'].astype(int)\n",
        "    return df"
      ],
      "execution_count": null,
      "outputs": []
    },
    {
      "cell_type": "code",
      "metadata": {
        "id": "e3KquhKyEo_W",
        "colab_type": "code",
        "colab": {}
      },
      "source": [
        "presidential = adjust_presidential(presidential)\n",
        "presidential = presidential[['city_county', 'district', 'village', 'office', 'number', 'candidate', 'votes']]"
      ],
      "execution_count": null,
      "outputs": []
    },
    {
      "cell_type": "code",
      "metadata": {
        "id": "F0b3XI_KEtp4",
        "colab_type": "code",
        "colab": {
          "base_uri": "https://localhost:8080/",
          "height": 1000
        },
        "outputId": "ece7414e-dae6-4f09-d6b1-e2a3e0897ba6"
      },
      "source": [
        "regional = pd.DataFrame()\n",
        "for city_county in city_county_list:\n",
        "    file_name = \"區域立委-A05-2-得票數一覽表({}).xls\".format(city_county)\n",
        "    file_url = quote_plus(file_name)\n",
        "    spreadsheet_url = \"https://taiwan-election-data.s3-ap-northeast-1.amazonaws.com/legislative_2020/{}\".format(file_url)\n",
        "    xl = pd.ExcelFile(spreadsheet_url)\n",
        "    for sheet in xl.sheet_names:\n",
        "        # skip those combined cells\n",
        "        df = pd.read_excel(spreadsheet_url, skiprows=[0, 1, 3, 4], thousands=',', sheet_name=sheet)\n",
        "        tidy_df = tidy_dataframe(df)\n",
        "        # appending dataframe of each city/county\n",
        "        tidy_df['city_county'] = city_county\n",
        "        tidy_df['electoral_district'] = sheet\n",
        "        regional = regional.append(tidy_df)\n",
        "        print(\"Tidying {} of {}\".format(sheet, file_name))\n",
        "regional = regional.reset_index(drop=True) # reset index for the appended dataframe"
      ],
      "execution_count": null,
      "outputs": [
        {
          "output_type": "stream",
          "text": [
            "Tidying 宜蘭縣選舉區 of 區域立委-A05-2-得票數一覽表(宜蘭縣).xls\n",
            "Tidying 彰化縣第1選舉區 of 區域立委-A05-2-得票數一覽表(彰化縣).xls\n",
            "Tidying 彰化縣第2選舉區 of 區域立委-A05-2-得票數一覽表(彰化縣).xls\n",
            "Tidying 彰化縣第3選舉區 of 區域立委-A05-2-得票數一覽表(彰化縣).xls\n",
            "Tidying 彰化縣第4選舉區 of 區域立委-A05-2-得票數一覽表(彰化縣).xls\n",
            "Tidying 金門縣選舉區 of 區域立委-A05-2-得票數一覽表(金門縣).xls\n",
            "Tidying 桃園市第1選舉區 of 區域立委-A05-2-得票數一覽表(桃園市).xls\n",
            "Tidying 桃園市第2選舉區 of 區域立委-A05-2-得票數一覽表(桃園市).xls\n",
            "Tidying 桃園市第3選舉區 of 區域立委-A05-2-得票數一覽表(桃園市).xls\n",
            "Tidying 桃園市第4選舉區 of 區域立委-A05-2-得票數一覽表(桃園市).xls\n",
            "Tidying 桃園市第5選舉區 of 區域立委-A05-2-得票數一覽表(桃園市).xls\n",
            "Tidying 桃園市第6選舉區 of 區域立委-A05-2-得票數一覽表(桃園市).xls\n",
            "Tidying 苗栗縣第1選舉區 of 區域立委-A05-2-得票數一覽表(苗栗縣).xls\n",
            "Tidying 苗栗縣第2選舉區 of 區域立委-A05-2-得票數一覽表(苗栗縣).xls\n",
            "Tidying 臺南市第1選舉區 of 區域立委-A05-2-得票數一覽表(臺南市).xls\n",
            "Tidying 臺南市第2選舉區 of 區域立委-A05-2-得票數一覽表(臺南市).xls\n",
            "Tidying 臺南市第3選舉區 of 區域立委-A05-2-得票數一覽表(臺南市).xls\n",
            "Tidying 臺南市第4選舉區 of 區域立委-A05-2-得票數一覽表(臺南市).xls\n",
            "Tidying 臺南市第5選舉區 of 區域立委-A05-2-得票數一覽表(臺南市).xls\n",
            "Tidying 臺南市第6選舉區 of 區域立委-A05-2-得票數一覽表(臺南市).xls\n",
            "Tidying 雲林縣第1選舉區 of 區域立委-A05-2-得票數一覽表(雲林縣).xls\n",
            "Tidying 雲林縣第2選舉區 of 區域立委-A05-2-得票數一覽表(雲林縣).xls\n",
            "Tidying 南投縣第1選舉區 of 區域立委-A05-2-得票數一覽表(南投縣).xls\n",
            "Tidying 南投縣第2選舉區 of 區域立委-A05-2-得票數一覽表(南投縣).xls\n",
            "Tidying 高雄市第1選舉區 of 區域立委-A05-2-得票數一覽表(高雄市).xls\n",
            "Tidying 高雄市第2選舉區 of 區域立委-A05-2-得票數一覽表(高雄市).xls\n",
            "Tidying 高雄市第3選舉區 of 區域立委-A05-2-得票數一覽表(高雄市).xls\n",
            "Tidying 高雄市第4選舉區 of 區域立委-A05-2-得票數一覽表(高雄市).xls\n",
            "Tidying 高雄市第5選舉區 of 區域立委-A05-2-得票數一覽表(高雄市).xls\n",
            "Tidying 高雄市第6選舉區 of 區域立委-A05-2-得票數一覽表(高雄市).xls\n",
            "Tidying 高雄市第7選舉區 of 區域立委-A05-2-得票數一覽表(高雄市).xls\n",
            "Tidying 高雄市第8選舉區 of 區域立委-A05-2-得票數一覽表(高雄市).xls\n",
            "Tidying 臺北市第1選舉區 of 區域立委-A05-2-得票數一覽表(臺北市).xls\n",
            "Tidying 臺北市第2選舉區 of 區域立委-A05-2-得票數一覽表(臺北市).xls\n",
            "Tidying 臺北市第3選舉區 of 區域立委-A05-2-得票數一覽表(臺北市).xls\n",
            "Tidying 臺北市第4選舉區 of 區域立委-A05-2-得票數一覽表(臺北市).xls\n",
            "Tidying 臺北市第5選舉區 of 區域立委-A05-2-得票數一覽表(臺北市).xls\n",
            "Tidying 臺北市第6選舉區 of 區域立委-A05-2-得票數一覽表(臺北市).xls\n",
            "Tidying 臺北市第7選舉區 of 區域立委-A05-2-得票數一覽表(臺北市).xls\n",
            "Tidying 臺北市第8選舉區 of 區域立委-A05-2-得票數一覽表(臺北市).xls\n",
            "Tidying 新北市第1選舉區 of 區域立委-A05-2-得票數一覽表(新北市).xls\n",
            "Tidying 新北市第2選舉區 of 區域立委-A05-2-得票數一覽表(新北市).xls\n",
            "Tidying 新北市第3選舉區 of 區域立委-A05-2-得票數一覽表(新北市).xls\n",
            "Tidying 新北市第4選舉區 of 區域立委-A05-2-得票數一覽表(新北市).xls\n",
            "Tidying 新北市第5選舉區 of 區域立委-A05-2-得票數一覽表(新北市).xls\n",
            "Tidying 新北市第6選舉區 of 區域立委-A05-2-得票數一覽表(新北市).xls\n",
            "Tidying 新北市第7選舉區 of 區域立委-A05-2-得票數一覽表(新北市).xls\n",
            "Tidying 新北市第8選舉區 of 區域立委-A05-2-得票數一覽表(新北市).xls\n",
            "Tidying 新北市第9選舉區 of 區域立委-A05-2-得票數一覽表(新北市).xls\n",
            "Tidying 新北市第10選舉區 of 區域立委-A05-2-得票數一覽表(新北市).xls\n",
            "Tidying 新北市第11選舉區 of 區域立委-A05-2-得票數一覽表(新北市).xls\n",
            "Tidying 新北市第12選舉區 of 區域立委-A05-2-得票數一覽表(新北市).xls\n",
            "Tidying 花蓮縣選舉區 of 區域立委-A05-2-得票數一覽表(花蓮縣).xls\n",
            "Tidying 新竹市選舉區 of 區域立委-A05-2-得票數一覽表(新竹市).xls\n",
            "Tidying 新竹縣第1選舉區 of 區域立委-A05-2-得票數一覽表(新竹縣).xls\n",
            "Tidying 新竹縣第2選舉區 of 區域立委-A05-2-得票數一覽表(新竹縣).xls\n",
            "Tidying 基隆市選舉區 of 區域立委-A05-2-得票數一覽表(基隆市).xls\n",
            "Tidying 連江縣選舉區 of 區域立委-A05-2-得票數一覽表(連江縣).xls\n",
            "Tidying 嘉義縣第1選舉區 of 區域立委-A05-2-得票數一覽表(嘉義縣).xls\n",
            "Tidying 嘉義縣第2選舉區 of 區域立委-A05-2-得票數一覽表(嘉義縣).xls\n",
            "Tidying 嘉義市選舉區 of 區域立委-A05-2-得票數一覽表(嘉義市).xls\n",
            "Tidying 屏東縣第1選舉區 of 區域立委-A05-2-得票數一覽表(屏東縣).xls\n",
            "Tidying 屏東縣第2選舉區 of 區域立委-A05-2-得票數一覽表(屏東縣).xls\n",
            "Tidying 澎湖縣選舉區 of 區域立委-A05-2-得票數一覽表(澎湖縣).xls\n",
            "Tidying 臺東縣選舉區 of 區域立委-A05-2-得票數一覽表(臺東縣).xls\n",
            "Tidying 臺中市第1選舉區 of 區域立委-A05-2-得票數一覽表(臺中市).xls\n",
            "Tidying 臺中市第2選舉區 of 區域立委-A05-2-得票數一覽表(臺中市).xls\n",
            "Tidying 臺中市第3選舉區 of 區域立委-A05-2-得票數一覽表(臺中市).xls\n",
            "Tidying 臺中市第4選舉區 of 區域立委-A05-2-得票數一覽表(臺中市).xls\n",
            "Tidying 臺中市第5選舉區 of 區域立委-A05-2-得票數一覽表(臺中市).xls\n",
            "Tidying 臺中市第6選舉區 of 區域立委-A05-2-得票數一覽表(臺中市).xls\n",
            "Tidying 臺中市第7選舉區 of 區域立委-A05-2-得票數一覽表(臺中市).xls\n",
            "Tidying 臺中市第8選舉區 of 區域立委-A05-2-得票數一覽表(臺中市).xls\n"
          ],
          "name": "stdout"
        }
      ]
    },
    {
      "cell_type": "code",
      "metadata": {
        "id": "AVSzgxJNFR0L",
        "colab_type": "code",
        "colab": {}
      },
      "source": [
        "def adjust_legislative(df):\n",
        "    # split candidate information into 2 columns\n",
        "    candidate_info_df = df['candidate_info'].str.split(\"\\n\", expand=True)\n",
        "    numbers = candidate_info_df[0].str.replace(\"\\(|\\)\", \"\")\n",
        "    candidates = candidate_info_df[1]\n",
        "    parties = candidate_info_df[2]\n",
        "    # re-arrange columns\n",
        "    df = df.drop(labels='candidate_info', axis=1)\n",
        "    df['number'] = numbers\n",
        "    df['candidate'] = candidates\n",
        "    df['party'] = parties\n",
        "    df['office'] = df['office'].astype(int)\n",
        "    return df"
      ],
      "execution_count": null,
      "outputs": []
    },
    {
      "cell_type": "code",
      "metadata": {
        "id": "SiPSvY6KFybS",
        "colab_type": "code",
        "colab": {}
      },
      "source": [
        "regional = adjust_legislative(regional)\n",
        "regional = regional[['city_county', 'electoral_district', 'district', 'village', 'office', 'number', 'party', 'candidate', 'votes']]"
      ],
      "execution_count": null,
      "outputs": []
    },
    {
      "cell_type": "code",
      "metadata": {
        "id": "U5uBA1KmF0nQ",
        "colab_type": "code",
        "colab": {
          "base_uri": "https://localhost:8080/",
          "height": 756
        },
        "outputId": "861d0041-bc2e-4c94-9a54-86873758faaa"
      },
      "source": [
        "indigenous = pd.DataFrame()\n",
        "indigenous_types = ['山地', '平地']\n",
        "for city_county in city_county_list:\n",
        "    for indigenous_type in indigenous_types:\n",
        "        file_name = \"{}立委-A05-4-得票數一覽表({}).xls\".format(indigenous_type, city_county)\n",
        "        file_url = quote_plus(file_name)\n",
        "        spreadsheet_url = \"https://taiwan-election-data.s3-ap-northeast-1.amazonaws.com/legislative_2020/{}\".format(file_url)\n",
        "        # skip those combined cells\n",
        "        df = pd.read_excel(spreadsheet_url, skiprows=[0, 1, 3, 4], thousands=',')\n",
        "        tidy_df = tidy_dataframe(df)\n",
        "        # appending dataframe of each city/county\n",
        "        tidy_df['city_county'] = city_county\n",
        "        tidy_df['electoral_district'] = '{}原住民'.format(indigenous_type)\n",
        "        indigenous = indigenous.append(tidy_df)\n",
        "        print(\"Tidying {}\".format(file_name))\n",
        "indigenous = indigenous.reset_index(drop=True) # reset index for the appended dataframe"
      ],
      "execution_count": null,
      "outputs": [
        {
          "output_type": "stream",
          "text": [
            "Tidying 山地立委-A05-4-得票數一覽表(宜蘭縣).xls\n",
            "Tidying 平地立委-A05-4-得票數一覽表(宜蘭縣).xls\n",
            "Tidying 山地立委-A05-4-得票數一覽表(彰化縣).xls\n",
            "Tidying 平地立委-A05-4-得票數一覽表(彰化縣).xls\n",
            "Tidying 山地立委-A05-4-得票數一覽表(金門縣).xls\n",
            "Tidying 平地立委-A05-4-得票數一覽表(金門縣).xls\n",
            "Tidying 山地立委-A05-4-得票數一覽表(桃園市).xls\n",
            "Tidying 平地立委-A05-4-得票數一覽表(桃園市).xls\n",
            "Tidying 山地立委-A05-4-得票數一覽表(苗栗縣).xls\n",
            "Tidying 平地立委-A05-4-得票數一覽表(苗栗縣).xls\n",
            "Tidying 山地立委-A05-4-得票數一覽表(臺南市).xls\n",
            "Tidying 平地立委-A05-4-得票數一覽表(臺南市).xls\n",
            "Tidying 山地立委-A05-4-得票數一覽表(雲林縣).xls\n",
            "Tidying 平地立委-A05-4-得票數一覽表(雲林縣).xls\n",
            "Tidying 山地立委-A05-4-得票數一覽表(南投縣).xls\n",
            "Tidying 平地立委-A05-4-得票數一覽表(南投縣).xls\n",
            "Tidying 山地立委-A05-4-得票數一覽表(高雄市).xls\n",
            "Tidying 平地立委-A05-4-得票數一覽表(高雄市).xls\n",
            "Tidying 山地立委-A05-4-得票數一覽表(臺北市).xls\n",
            "Tidying 平地立委-A05-4-得票數一覽表(臺北市).xls\n",
            "Tidying 山地立委-A05-4-得票數一覽表(新北市).xls\n",
            "Tidying 平地立委-A05-4-得票數一覽表(新北市).xls\n",
            "Tidying 山地立委-A05-4-得票數一覽表(花蓮縣).xls\n",
            "Tidying 平地立委-A05-4-得票數一覽表(花蓮縣).xls\n",
            "Tidying 山地立委-A05-4-得票數一覽表(新竹市).xls\n",
            "Tidying 平地立委-A05-4-得票數一覽表(新竹市).xls\n",
            "Tidying 山地立委-A05-4-得票數一覽表(新竹縣).xls\n",
            "Tidying 平地立委-A05-4-得票數一覽表(新竹縣).xls\n",
            "Tidying 山地立委-A05-4-得票數一覽表(基隆市).xls\n",
            "Tidying 平地立委-A05-4-得票數一覽表(基隆市).xls\n",
            "Tidying 山地立委-A05-4-得票數一覽表(連江縣).xls\n",
            "Tidying 平地立委-A05-4-得票數一覽表(連江縣).xls\n",
            "Tidying 山地立委-A05-4-得票數一覽表(嘉義縣).xls\n",
            "Tidying 平地立委-A05-4-得票數一覽表(嘉義縣).xls\n",
            "Tidying 山地立委-A05-4-得票數一覽表(嘉義市).xls\n",
            "Tidying 平地立委-A05-4-得票數一覽表(嘉義市).xls\n",
            "Tidying 山地立委-A05-4-得票數一覽表(屏東縣).xls\n",
            "Tidying 平地立委-A05-4-得票數一覽表(屏東縣).xls\n",
            "Tidying 山地立委-A05-4-得票數一覽表(澎湖縣).xls\n",
            "Tidying 平地立委-A05-4-得票數一覽表(澎湖縣).xls\n",
            "Tidying 山地立委-A05-4-得票數一覽表(臺東縣).xls\n",
            "Tidying 平地立委-A05-4-得票數一覽表(臺東縣).xls\n",
            "Tidying 山地立委-A05-4-得票數一覽表(臺中市).xls\n",
            "Tidying 平地立委-A05-4-得票數一覽表(臺中市).xls\n"
          ],
          "name": "stdout"
        }
      ]
    },
    {
      "cell_type": "code",
      "metadata": {
        "id": "kbul5rNuF3ts",
        "colab_type": "code",
        "colab": {
          "base_uri": "https://localhost:8080/",
          "height": 195
        },
        "outputId": "17a84cd6-58cb-4d8a-b519-999f18381bf2"
      },
      "source": [
        "indigenous = adjust_legislative(indigenous)\n",
        "indigenous = indigenous[['city_county', 'electoral_district', 'district', 'village', 'office', 'number', 'party', 'candidate', 'votes']]\n",
        "indigenous.head()"
      ],
      "execution_count": null,
      "outputs": [
        {
          "output_type": "execute_result",
          "data": {
            "text/html": [
              "<div>\n",
              "<style scoped>\n",
              "    .dataframe tbody tr th:only-of-type {\n",
              "        vertical-align: middle;\n",
              "    }\n",
              "\n",
              "    .dataframe tbody tr th {\n",
              "        vertical-align: top;\n",
              "    }\n",
              "\n",
              "    .dataframe thead th {\n",
              "        text-align: right;\n",
              "    }\n",
              "</style>\n",
              "<table border=\"1\" class=\"dataframe\">\n",
              "  <thead>\n",
              "    <tr style=\"text-align: right;\">\n",
              "      <th></th>\n",
              "      <th>city_county</th>\n",
              "      <th>electoral_district</th>\n",
              "      <th>district</th>\n",
              "      <th>village</th>\n",
              "      <th>office</th>\n",
              "      <th>number</th>\n",
              "      <th>party</th>\n",
              "      <th>candidate</th>\n",
              "      <th>votes</th>\n",
              "    </tr>\n",
              "  </thead>\n",
              "  <tbody>\n",
              "    <tr>\n",
              "      <th>0</th>\n",
              "      <td>宜蘭縣</td>\n",
              "      <td>山地原住民</td>\n",
              "      <td>宜蘭市</td>\n",
              "      <td>民族里</td>\n",
              "      <td>1</td>\n",
              "      <td>1</td>\n",
              "      <td>民主進步黨</td>\n",
              "      <td>伍麗華Saidhai．Tahovecahe</td>\n",
              "      <td>0</td>\n",
              "    </tr>\n",
              "    <tr>\n",
              "      <th>1</th>\n",
              "      <td>宜蘭縣</td>\n",
              "      <td>山地原住民</td>\n",
              "      <td>宜蘭市</td>\n",
              "      <td>民族里</td>\n",
              "      <td>2</td>\n",
              "      <td>1</td>\n",
              "      <td>民主進步黨</td>\n",
              "      <td>伍麗華Saidhai．Tahovecahe</td>\n",
              "      <td>0</td>\n",
              "    </tr>\n",
              "    <tr>\n",
              "      <th>2</th>\n",
              "      <td>宜蘭縣</td>\n",
              "      <td>山地原住民</td>\n",
              "      <td>宜蘭市</td>\n",
              "      <td>建軍里</td>\n",
              "      <td>3</td>\n",
              "      <td>1</td>\n",
              "      <td>民主進步黨</td>\n",
              "      <td>伍麗華Saidhai．Tahovecahe</td>\n",
              "      <td>0</td>\n",
              "    </tr>\n",
              "    <tr>\n",
              "      <th>3</th>\n",
              "      <td>宜蘭縣</td>\n",
              "      <td>山地原住民</td>\n",
              "      <td>宜蘭市</td>\n",
              "      <td>建軍里</td>\n",
              "      <td>4</td>\n",
              "      <td>1</td>\n",
              "      <td>民主進步黨</td>\n",
              "      <td>伍麗華Saidhai．Tahovecahe</td>\n",
              "      <td>0</td>\n",
              "    </tr>\n",
              "    <tr>\n",
              "      <th>4</th>\n",
              "      <td>宜蘭縣</td>\n",
              "      <td>山地原住民</td>\n",
              "      <td>宜蘭市</td>\n",
              "      <td>泰山里</td>\n",
              "      <td>5</td>\n",
              "      <td>1</td>\n",
              "      <td>民主進步黨</td>\n",
              "      <td>伍麗華Saidhai．Tahovecahe</td>\n",
              "      <td>0</td>\n",
              "    </tr>\n",
              "  </tbody>\n",
              "</table>\n",
              "</div>"
            ],
            "text/plain": [
              "  city_county electoral_district district  ...  party              candidate votes\n",
              "0         宜蘭縣              山地原住民      宜蘭市  ...  民主進步黨  伍麗華Saidhai．Tahovecahe     0\n",
              "1         宜蘭縣              山地原住民      宜蘭市  ...  民主進步黨  伍麗華Saidhai．Tahovecahe     0\n",
              "2         宜蘭縣              山地原住民      宜蘭市  ...  民主進步黨  伍麗華Saidhai．Tahovecahe     0\n",
              "3         宜蘭縣              山地原住民      宜蘭市  ...  民主進步黨  伍麗華Saidhai．Tahovecahe     0\n",
              "4         宜蘭縣              山地原住民      宜蘭市  ...  民主進步黨  伍麗華Saidhai．Tahovecahe     0\n",
              "\n",
              "[5 rows x 9 columns]"
            ]
          },
          "metadata": {
            "tags": []
          },
          "execution_count": 24
        }
      ]
    },
    {
      "cell_type": "code",
      "metadata": {
        "id": "Io5dmMUPGGXo",
        "colab_type": "code",
        "colab": {}
      },
      "source": [
        "legislative_regional = pd.concat([regional, indigenous], axis=0)\n",
        "legislative_regional = legislative_regional.reset_index(drop=True)"
      ],
      "execution_count": null,
      "outputs": []
    },
    {
      "cell_type": "code",
      "metadata": {
        "id": "ON9jk3wvGI_V",
        "colab_type": "code",
        "colab": {
          "base_uri": "https://localhost:8080/",
          "height": 386
        },
        "outputId": "31e0d44d-3f92-444b-f9e6-075c729ff89c"
      },
      "source": [
        "legislative_at_large = pd.DataFrame()\n",
        "for city_county in city_county_list:\n",
        "    file_name = \"不分區立委-A05-6-得票數一覽表({}).xls\".format(city_county)\n",
        "    file_url = quote_plus(file_name)\n",
        "    spreadsheet_url = \"https://taiwan-election-data.s3-ap-northeast-1.amazonaws.com/legislative_2020/{}\".format(file_url)\n",
        "    # skip those combined cells\n",
        "    df = pd.read_excel(spreadsheet_url, skiprows=[0, 1, 3, 4], thousands=',')\n",
        "    tidy_df = tidy_dataframe(df)\n",
        "    # appending dataframe of each city/county\n",
        "    tidy_df['city_county'] = city_county\n",
        "    legislative_at_large = legislative_at_large.append(tidy_df)\n",
        "    print(\"Tidying {}\".format(file_name))\n",
        "legislative_at_large = legislative_at_large.reset_index(drop=True) # reset index for the appended dataframe"
      ],
      "execution_count": null,
      "outputs": [
        {
          "output_type": "stream",
          "text": [
            "Tidying 不分區立委-A05-6-得票數一覽表(宜蘭縣).xls\n",
            "Tidying 不分區立委-A05-6-得票數一覽表(彰化縣).xls\n",
            "Tidying 不分區立委-A05-6-得票數一覽表(金門縣).xls\n",
            "Tidying 不分區立委-A05-6-得票數一覽表(桃園市).xls\n",
            "Tidying 不分區立委-A05-6-得票數一覽表(苗栗縣).xls\n",
            "Tidying 不分區立委-A05-6-得票數一覽表(臺南市).xls\n",
            "Tidying 不分區立委-A05-6-得票數一覽表(雲林縣).xls\n",
            "Tidying 不分區立委-A05-6-得票數一覽表(南投縣).xls\n",
            "Tidying 不分區立委-A05-6-得票數一覽表(高雄市).xls\n",
            "Tidying 不分區立委-A05-6-得票數一覽表(臺北市).xls\n",
            "Tidying 不分區立委-A05-6-得票數一覽表(新北市).xls\n",
            "Tidying 不分區立委-A05-6-得票數一覽表(花蓮縣).xls\n",
            "Tidying 不分區立委-A05-6-得票數一覽表(新竹市).xls\n",
            "Tidying 不分區立委-A05-6-得票數一覽表(新竹縣).xls\n",
            "Tidying 不分區立委-A05-6-得票數一覽表(基隆市).xls\n",
            "Tidying 不分區立委-A05-6-得票數一覽表(連江縣).xls\n",
            "Tidying 不分區立委-A05-6-得票數一覽表(嘉義縣).xls\n",
            "Tidying 不分區立委-A05-6-得票數一覽表(嘉義市).xls\n",
            "Tidying 不分區立委-A05-6-得票數一覽表(屏東縣).xls\n",
            "Tidying 不分區立委-A05-6-得票數一覽表(澎湖縣).xls\n",
            "Tidying 不分區立委-A05-6-得票數一覽表(臺東縣).xls\n",
            "Tidying 不分區立委-A05-6-得票數一覽表(臺中市).xls\n"
          ],
          "name": "stdout"
        }
      ]
    },
    {
      "cell_type": "code",
      "metadata": {
        "id": "uHuSpItCGLhm",
        "colab_type": "code",
        "colab": {
          "base_uri": "https://localhost:8080/",
          "height": 195
        },
        "outputId": "9dcda1ab-46c5-4e77-f55e-cd5149c056a4"
      },
      "source": [
        "legislative_at_large = adjust_legislative(legislative_at_large)\n",
        "legislative_at_large = legislative_at_large[['city_county', 'district', 'village', 'office', 'number', 'party', 'votes']]\n",
        "legislative_at_large.head()"
      ],
      "execution_count": null,
      "outputs": [
        {
          "output_type": "execute_result",
          "data": {
            "text/html": [
              "<div>\n",
              "<style scoped>\n",
              "    .dataframe tbody tr th:only-of-type {\n",
              "        vertical-align: middle;\n",
              "    }\n",
              "\n",
              "    .dataframe tbody tr th {\n",
              "        vertical-align: top;\n",
              "    }\n",
              "\n",
              "    .dataframe thead th {\n",
              "        text-align: right;\n",
              "    }\n",
              "</style>\n",
              "<table border=\"1\" class=\"dataframe\">\n",
              "  <thead>\n",
              "    <tr style=\"text-align: right;\">\n",
              "      <th></th>\n",
              "      <th>city_county</th>\n",
              "      <th>district</th>\n",
              "      <th>village</th>\n",
              "      <th>office</th>\n",
              "      <th>number</th>\n",
              "      <th>party</th>\n",
              "      <th>votes</th>\n",
              "    </tr>\n",
              "  </thead>\n",
              "  <tbody>\n",
              "    <tr>\n",
              "      <th>0</th>\n",
              "      <td>宜蘭縣</td>\n",
              "      <td>宜蘭市</td>\n",
              "      <td>民族里</td>\n",
              "      <td>1</td>\n",
              "      <td>1</td>\n",
              "      <td>合一行動聯盟</td>\n",
              "      <td>2</td>\n",
              "    </tr>\n",
              "    <tr>\n",
              "      <th>1</th>\n",
              "      <td>宜蘭縣</td>\n",
              "      <td>宜蘭市</td>\n",
              "      <td>民族里</td>\n",
              "      <td>2</td>\n",
              "      <td>1</td>\n",
              "      <td>合一行動聯盟</td>\n",
              "      <td>1</td>\n",
              "    </tr>\n",
              "    <tr>\n",
              "      <th>2</th>\n",
              "      <td>宜蘭縣</td>\n",
              "      <td>宜蘭市</td>\n",
              "      <td>建軍里</td>\n",
              "      <td>3</td>\n",
              "      <td>1</td>\n",
              "      <td>合一行動聯盟</td>\n",
              "      <td>2</td>\n",
              "    </tr>\n",
              "    <tr>\n",
              "      <th>3</th>\n",
              "      <td>宜蘭縣</td>\n",
              "      <td>宜蘭市</td>\n",
              "      <td>建軍里</td>\n",
              "      <td>4</td>\n",
              "      <td>1</td>\n",
              "      <td>合一行動聯盟</td>\n",
              "      <td>0</td>\n",
              "    </tr>\n",
              "    <tr>\n",
              "      <th>4</th>\n",
              "      <td>宜蘭縣</td>\n",
              "      <td>宜蘭市</td>\n",
              "      <td>泰山里</td>\n",
              "      <td>5</td>\n",
              "      <td>1</td>\n",
              "      <td>合一行動聯盟</td>\n",
              "      <td>3</td>\n",
              "    </tr>\n",
              "  </tbody>\n",
              "</table>\n",
              "</div>"
            ],
            "text/plain": [
              "  city_county district village  office number   party  votes\n",
              "0         宜蘭縣      宜蘭市     民族里       1      1  合一行動聯盟      2\n",
              "1         宜蘭縣      宜蘭市     民族里       2      1  合一行動聯盟      1\n",
              "2         宜蘭縣      宜蘭市     建軍里       3      1  合一行動聯盟      2\n",
              "3         宜蘭縣      宜蘭市     建軍里       4      1  合一行動聯盟      0\n",
              "4         宜蘭縣      宜蘭市     泰山里       5      1  合一行動聯盟      3"
            ]
          },
          "metadata": {
            "tags": []
          },
          "execution_count": 27
        }
      ]
    },
    {
      "cell_type": "code",
      "metadata": {
        "id": "H23ZxjaSGTj6",
        "colab_type": "code",
        "colab": {}
      },
      "source": [
        "presidential.to_csv('presidential.csv', index=False)\n",
        "legislative_regional.to_csv('legislative_regional.csv', index=False)\n",
        "legislative_at_large.to_csv('legislative_at_large.csv', index=False)"
      ],
      "execution_count": null,
      "outputs": []
    },
    {
      "cell_type": "code",
      "metadata": {
        "id": "xj3mQvrkGXMl",
        "colab_type": "code",
        "colab": {}
      },
      "source": [
        "conn = sqlite3.connect('tw-election-2020.db')\n",
        "presidential.to_sql('presidential', con=conn, index=False, if_exists='replace')\n",
        "legislative_regional.to_sql('legislative_regional', con=conn, index=False, if_exists='replace')\n",
        "legislative_at_large.to_sql('legislative_at_large', con=conn, index=False, if_exists='replace')"
      ],
      "execution_count": null,
      "outputs": []
    },
    {
      "cell_type": "code",
      "metadata": {
        "id": "0J6J_7SOGc4E",
        "colab_type": "code",
        "colab": {
          "base_uri": "https://localhost:8080/",
          "height": 195
        },
        "outputId": "2a47d841-7cff-4c56-d73a-30c17f067557"
      },
      "source": [
        "ttl_votes_by_candidates = presidential.groupby(['city_county', 'district', 'village', 'candidate'])['votes'].sum()\n",
        "ttl_votes_by_villages = presidential.groupby(['city_county', 'district', 'village'])['votes'].sum()\n",
        "ttl_votes_by_candidates = pd.DataFrame(ttl_votes_by_candidates).reset_index()\n",
        "ttl_votes_by_villages = pd.DataFrame(ttl_votes_by_villages).reset_index()\n",
        "presidential_votes_summary = pd.merge(ttl_votes_by_candidates, ttl_votes_by_villages,\n",
        "                                      left_on=['city_county', 'district', 'village'],\n",
        "                                      right_on=['city_county', 'district', 'village'])\n",
        "vote_ratios = presidential_votes_summary['votes_x'] / presidential_votes_summary['votes_y']\n",
        "presidential_votes_summary['votes_ratio'] = vote_ratios\n",
        "presidential_votes_summary.head()"
      ],
      "execution_count": null,
      "outputs": [
        {
          "output_type": "execute_result",
          "data": {
            "text/html": [
              "<div>\n",
              "<style scoped>\n",
              "    .dataframe tbody tr th:only-of-type {\n",
              "        vertical-align: middle;\n",
              "    }\n",
              "\n",
              "    .dataframe tbody tr th {\n",
              "        vertical-align: top;\n",
              "    }\n",
              "\n",
              "    .dataframe thead th {\n",
              "        text-align: right;\n",
              "    }\n",
              "</style>\n",
              "<table border=\"1\" class=\"dataframe\">\n",
              "  <thead>\n",
              "    <tr style=\"text-align: right;\">\n",
              "      <th></th>\n",
              "      <th>city_county</th>\n",
              "      <th>district</th>\n",
              "      <th>village</th>\n",
              "      <th>candidate</th>\n",
              "      <th>votes_x</th>\n",
              "      <th>votes_y</th>\n",
              "      <th>votes_ratio</th>\n",
              "    </tr>\n",
              "  </thead>\n",
              "  <tbody>\n",
              "    <tr>\n",
              "      <th>0</th>\n",
              "      <td>南投縣</td>\n",
              "      <td>中寮鄉</td>\n",
              "      <td>中寮村</td>\n",
              "      <td>宋楚瑜/余湘</td>\n",
              "      <td>18</td>\n",
              "      <td>443</td>\n",
              "      <td>0.040632</td>\n",
              "    </tr>\n",
              "    <tr>\n",
              "      <th>1</th>\n",
              "      <td>南投縣</td>\n",
              "      <td>中寮鄉</td>\n",
              "      <td>中寮村</td>\n",
              "      <td>蔡英文/賴清德</td>\n",
              "      <td>208</td>\n",
              "      <td>443</td>\n",
              "      <td>0.469526</td>\n",
              "    </tr>\n",
              "    <tr>\n",
              "      <th>2</th>\n",
              "      <td>南投縣</td>\n",
              "      <td>中寮鄉</td>\n",
              "      <td>中寮村</td>\n",
              "      <td>韓國瑜/張善政</td>\n",
              "      <td>217</td>\n",
              "      <td>443</td>\n",
              "      <td>0.489842</td>\n",
              "    </tr>\n",
              "    <tr>\n",
              "      <th>3</th>\n",
              "      <td>南投縣</td>\n",
              "      <td>中寮鄉</td>\n",
              "      <td>內城村</td>\n",
              "      <td>宋楚瑜/余湘</td>\n",
              "      <td>17</td>\n",
              "      <td>297</td>\n",
              "      <td>0.057239</td>\n",
              "    </tr>\n",
              "    <tr>\n",
              "      <th>4</th>\n",
              "      <td>南投縣</td>\n",
              "      <td>中寮鄉</td>\n",
              "      <td>內城村</td>\n",
              "      <td>蔡英文/賴清德</td>\n",
              "      <td>139</td>\n",
              "      <td>297</td>\n",
              "      <td>0.468013</td>\n",
              "    </tr>\n",
              "  </tbody>\n",
              "</table>\n",
              "</div>"
            ],
            "text/plain": [
              "  city_county district village candidate  votes_x  votes_y  votes_ratio\n",
              "0         南投縣      中寮鄉     中寮村    宋楚瑜/余湘       18      443     0.040632\n",
              "1         南投縣      中寮鄉     中寮村   蔡英文/賴清德      208      443     0.469526\n",
              "2         南投縣      中寮鄉     中寮村   韓國瑜/張善政      217      443     0.489842\n",
              "3         南投縣      中寮鄉     內城村    宋楚瑜/余湘       17      297     0.057239\n",
              "4         南投縣      中寮鄉     內城村   蔡英文/賴清德      139      297     0.468013"
            ]
          },
          "metadata": {
            "tags": []
          },
          "execution_count": 30
        }
      ]
    },
    {
      "cell_type": "code",
      "metadata": {
        "id": "Jh9ZcjaTGiMg",
        "colab_type": "code",
        "colab": {}
      },
      "source": [
        "presidential_votes_summary[presidential_votes_summary['candidate'] == '韓國瑜/張善政'].to_csv('summary_kmt.csv', index=False)\n",
        "presidential_votes_summary[presidential_votes_summary['candidate'] == '蔡英文/賴清德'].to_csv('summary_dpp.csv', index=False)"
      ],
      "execution_count": null,
      "outputs": []
    },
    {
      "cell_type": "code",
      "metadata": {
        "id": "TlCF2bWjGkXc",
        "colab_type": "code",
        "colab": {}
      },
      "source": [
        ""
      ],
      "execution_count": null,
      "outputs": []
    }
  ]
}